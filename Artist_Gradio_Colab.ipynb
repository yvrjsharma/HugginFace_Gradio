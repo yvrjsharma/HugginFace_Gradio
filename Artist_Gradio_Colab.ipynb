{
  "nbformat": 4,
  "nbformat_minor": 0,
  "metadata": {
    "colab": {
      "provenance": [],
      "authorship_tag": "ABX9TyMpL4ZzOeDk/KgNmHcaap48",
      "include_colab_link": true
    },
    "kernelspec": {
      "name": "python3",
      "display_name": "Python 3"
    },
    "language_info": {
      "name": "python"
    }
  },
  "cells": [
    {
      "cell_type": "markdown",
      "metadata": {
        "id": "view-in-github",
        "colab_type": "text"
      },
      "source": [
        "<a href=\"https://colab.research.google.com/github/yvrjsharma/HugginFace_Gradio/blob/main/Artist_Gradio_Colab.ipynb\" target=\"_parent\"><img src=\"https://colab.research.google.com/assets/colab-badge.svg\" alt=\"Open In Colab\"/></a>"
      ]
    },
    {
      "cell_type": "code",
      "execution_count": 1,
      "metadata": {
        "colab": {
          "base_uri": "https://localhost:8080/"
        },
        "id": "y_kIweQlj5k_",
        "outputId": "5807f89a-d2d7-4d0a-91f7-98f758bd8d4a"
      },
      "outputs": [
        {
          "output_type": "stream",
          "name": "stdout",
          "text": [
            "Cloning into 'Artist'...\n",
            "remote: Enumerating objects: 51, done.\u001b[K\n",
            "remote: Counting objects: 100% (51/51), done.\u001b[K\n",
            "remote: Compressing objects: 100% (46/46), done.\u001b[K\n",
            "remote: Total 51 (delta 8), reused 28 (delta 0), pack-reused 0\u001b[K\n",
            "Receiving objects: 100% (51/51), 10.22 MiB | 24.81 MiB/s, done.\n",
            "Resolving deltas: 100% (8/8), done.\n"
          ]
        }
      ],
      "source": [
        "!git clone https://github.com/songrise/Artist.git"
      ]
    },
    {
      "cell_type": "code",
      "source": [
        "%cd Artist"
      ],
      "metadata": {
        "colab": {
          "base_uri": "https://localhost:8080/"
        },
        "id": "FvQBgCD0lMA5",
        "outputId": "1b4468cc-61f7-48ea-be7c-58dd331bd065"
      },
      "execution_count": 7,
      "outputs": [
        {
          "output_type": "stream",
          "name": "stdout",
          "text": [
            "/content/Artist\n"
          ]
        }
      ]
    },
    {
      "cell_type": "code",
      "source": [
        "!pip install clip==0.1.0 diffusers==0.26.3 einops==0.8.0 omegaconf==2.3.0 gradio -q"
      ],
      "metadata": {
        "id": "1X5UI7SjkTwJ"
      },
      "execution_count": null,
      "outputs": []
    },
    {
      "cell_type": "markdown",
      "source": [
        "**NOTE**: Set `share=True` in `demo.launch()` within the `injection_main.py` file manually, before moving to the next step. You don't need to restart the session when prompted. Also make sure that the gradio version is updated to the latest release (`pip install gradio --upgrade`)"
      ],
      "metadata": {
        "id": "mC5ljY6Gkrvi"
      }
    },
    {
      "cell_type": "code",
      "source": [
        "!python injection_main.py --mode app"
      ],
      "metadata": {
        "id": "LKlx4zg5kICl"
      },
      "execution_count": null,
      "outputs": []
    }
  ]
}